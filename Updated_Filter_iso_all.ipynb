{
 "cells": [
  {
   "cell_type": "markdown",
   "id": "fa15a894",
   "metadata": {},
   "source": [
    "## Purpose\n",
    "1. To remove rows where both RefSeq ID = \"-\" and GENECODEID = \"-\" \n",
    "2. To remove all rows that contain hypothetical\n",
    "3. To remove all other theoretical | outlaws\n",
    "3. To create a new file that satisfy both #1 and #2"
   ]
  },
  {
   "cell_type": "code",
   "execution_count": 1,
   "id": "a6bf4c93",
   "metadata": {},
   "outputs": [],
   "source": [
    "import pandas as pd"
   ]
  },
  {
   "cell_type": "code",
   "execution_count": null,
   "id": "44d9b1f7",
   "metadata": {},
   "outputs": [],
   "source": [
    "f_iso_all = \"iso_all_v1.1_GENE.filled.csv\"\n",
    "df_iso_all = pd.read_csv(f_iso_all)\n",
    "df_iso_all"
   ]
  },
  {
   "cell_type": "code",
   "execution_count": null,
   "id": "2120a0b6",
   "metadata": {},
   "outputs": [],
   "source": [
    "len(list(df_iso_all[\"GENE\"].unique()))"
   ]
  },
  {
   "cell_type": "code",
   "execution_count": null,
   "id": "3b6dbc5c",
   "metadata": {},
   "outputs": [],
   "source": [
    "df_iso_all.duplicated(\"CHESS ID\").sum()"
   ]
  },
  {
   "cell_type": "code",
   "execution_count": null,
   "id": "c0fa974e",
   "metadata": {},
   "outputs": [],
   "source": [
    "df_iso_all.drop_duplicates(subset=[\"CHESS ID\"])"
   ]
  },
  {
   "cell_type": "code",
   "execution_count": null,
   "id": "7fad0b6f",
   "metadata": {},
   "outputs": [],
   "source": [
    "# Check that all CHESS ID are unique\n",
    "df_iso_all[\"CHESS ID\"].value_counts()  "
   ]
  },
  {
   "cell_type": "code",
   "execution_count": null,
   "id": "22a880de",
   "metadata": {},
   "outputs": [],
   "source": [
    " # Getting to know the data\n",
    "df_iso_all[\"GENE\"].value_counts() "
   ]
  },
  {
   "cell_type": "markdown",
   "id": "9b0a5c85",
   "metadata": {},
   "source": [
    "### 1. Keep only rows where there is transcript info in at least one of RefSeq and GENCODE"
   ]
  },
  {
   "cell_type": "code",
   "execution_count": null,
   "id": "4056a5e8",
   "metadata": {},
   "outputs": [],
   "source": [
    "# Show rows where RefSeq ID exist (not \"-\")\n",
    "df_iso_all[df_iso_all[\"RefSeq ID\"] != \"-\"].sample(10)"
   ]
  },
  {
   "cell_type": "code",
   "execution_count": null,
   "id": "2b2ff254",
   "metadata": {},
   "outputs": [],
   "source": [
    "# Show rows where GENECODE ID exist (not \"-\")\n",
    "df_iso_all[df_iso_all[\"GENCODE ID\"] != \"-\"].sample(10)"
   ]
  },
  {
   "cell_type": "code",
   "execution_count": null,
   "id": "377812e0",
   "metadata": {},
   "outputs": [],
   "source": [
    "# Count the number of rows where both RefSeq and GENCODE ID are \"-\"\n",
    "df_iso_all[(df_iso_all[\"RefSeq ID\"] == \"-\") & (df_iso_all[\"GENCODE ID\"] == \"-\")]"
   ]
  },
  {
   "cell_type": "code",
   "execution_count": null,
   "id": "2e65785c",
   "metadata": {},
   "outputs": [],
   "source": [
    "df_iso_all_RGExist = df_iso_all[(df_iso_all[\"RefSeq ID\"] != \"-\") | (df_iso_all[\"GENCODE ID\"] != \"-\")]\n",
    "df_iso_all_RGExist"
   ]
  },
  {
   "cell_type": "code",
   "execution_count": null,
   "id": "5cec8f62",
   "metadata": {},
   "outputs": [],
   "source": [
    "# Check whether there are any rows containing \"-\" in both \"RefSeq ID\" and \"GENCODE ID\" cols\n",
    "df_iso_all_RGExist[(df_iso_all_RGExist[\"RefSeq ID\"] == \"-\") & (df_iso_all_RGExist[\"GENCODE ID\"] == \"-\")]"
   ]
  },
  {
   "cell_type": "code",
   "execution_count": null,
   "id": "c6db4ab3",
   "metadata": {},
   "outputs": [],
   "source": [
    "print((df_iso_all[(df_iso_all[\"RefSeq ID\"] == \"-\") & (df_iso_all[\"GENCODE ID\"] == \"-\")].shape[0]+df_iso_all_RGExist.shape[0]) == df_iso_all.shape[0])"
   ]
  },
  {
   "cell_type": "markdown",
   "id": "78e4a19b",
   "metadata": {},
   "source": [
    "### 2. Remove all hypothetical"
   ]
  },
  {
   "cell_type": "code",
   "execution_count": null,
   "id": "012d5fe0",
   "metadata": {},
   "outputs": [],
   "source": [
    "df_iso_all_RGExist"
   ]
  },
  {
   "cell_type": "code",
   "execution_count": null,
   "id": "2be791af",
   "metadata": {},
   "outputs": [],
   "source": [
    "# Check the number of CHESS ID containing \"hypothetical\"\n",
    "df_iso_all_RGExist[df_iso_all_RGExist[\"CHESS ID\"].str.contains(\"hypothetical\")]"
   ]
  },
  {
   "cell_type": "code",
   "execution_count": null,
   "id": "0835def7",
   "metadata": {},
   "outputs": [],
   "source": [
    "# Create a df where, from the output df from step 1, rows where CHESS ID column contains \"hypothetical\" are removed\n",
    "df_iso_all_filtered = df_iso_all_RGExist[~df_iso_all_RGExist[\"CHESS ID\"].str.contains(\"hypothetical\")]\n",
    "df_iso_all_filtered"
   ]
  },
  {
   "cell_type": "markdown",
   "id": "0e195c77",
   "metadata": {},
   "source": [
    "#### Used during MTG with Sushant 7/11, 2022"
   ]
  },
  {
   "cell_type": "code",
   "execution_count": null,
   "id": "2eeff159",
   "metadata": {},
   "outputs": [],
   "source": [
    "df_iso_all_RGExist[df_iso_all_RGExist[\"GENE\"] == \"-\"]"
   ]
  },
  {
   "cell_type": "code",
   "execution_count": null,
   "id": "c7fe3b38",
   "metadata": {},
   "outputs": [],
   "source": [
    "df_iso_all_RGExist[(df_iso_all_RGExist[\"GENE\"] == \"-\") & (df_iso_all_RGExist[\"GENCODE ID\"] != \"-\")]"
   ]
  },
  {
   "cell_type": "markdown",
   "id": "47612056",
   "metadata": {},
   "source": [
    "### Count genes without MANE transcript"
   ]
  },
  {
   "cell_type": "code",
   "execution_count": null,
   "id": "c086fe22",
   "metadata": {},
   "outputs": [],
   "source": [
    "df_iso_all_filtered[\"GENE\"].value_counts()"
   ]
  },
  {
   "cell_type": "code",
   "execution_count": null,
   "id": "3e7ac98a",
   "metadata": {},
   "outputs": [],
   "source": [
    "unique_genes_iso_all = list(df_iso_all_filtered[\"GENE\"].unique())\n",
    "unique_genes_iso_all.remove(\"-\")\n",
    "print(len(unique_genes_iso_all))"
   ]
  },
  {
   "cell_type": "code",
   "execution_count": null,
   "id": "8a87318a",
   "metadata": {},
   "outputs": [],
   "source": [
    "# Obtaining value for MANE (after processing, MANE transcripts added as rows)\n",
    "f_MANE_cim = \"iso_MANE_cim_fixed.csv\"\n",
    "df_MANE_cim = pd.read_csv(f_MANE_cim)\n",
    "df_MANE_cim_filtered = df_MANE_cim[~df_MANE_cim[\"CHESS_ID\"].str.contains(\"hypothetical\")]\n",
    "df_MANE_cim_filtered"
   ]
  },
  {
   "cell_type": "code",
   "execution_count": null,
   "id": "3741a121",
   "metadata": {},
   "outputs": [],
   "source": [
    "unique_genes_iso_MANE = list(df_MANE_cim_filtered[\"gene\"].unique())\n",
    "print(len(unique_genes_iso_MANE))"
   ]
  },
  {
   "cell_type": "markdown",
   "id": "15b504a8",
   "metadata": {},
   "source": [
    "#### Perhaps something to note"
   ]
  },
  {
   "cell_type": "code",
   "execution_count": null,
   "id": "e4de3b4b",
   "metadata": {},
   "outputs": [],
   "source": [
    "n_gene_all = len(unique_genes_iso_all)\n",
    "n_gene_MANE = len(unique_genes_iso_MANE)\n",
    "n_gene_noMANE = n_gene_all - n_gene_MANE\n",
    "print(n_gene_noMANE)\n",
    "\n",
    "# Get difference between two gene lists\n",
    "difference = list(set(unique_genes_iso_all) - set(unique_genes_iso_MANE))\n",
    "print(len(difference))"
   ]
  },
  {
   "cell_type": "code",
   "execution_count": null,
   "id": "7bc9ae34",
   "metadata": {},
   "outputs": [],
   "source": []
  },
  {
   "cell_type": "code",
   "execution_count": null,
   "id": "a2b8775f",
   "metadata": {},
   "outputs": [],
   "source": []
  },
  {
   "cell_type": "code",
   "execution_count": null,
   "id": "8fc17d3e",
   "metadata": {},
   "outputs": [],
   "source": [
    "print((3943+132151) == 136094)"
   ]
  },
  {
   "cell_type": "code",
   "execution_count": null,
   "id": "16020872",
   "metadata": {},
   "outputs": [],
   "source": [
    "f_out = \"iso_all_v1.1.filtered.132151.csv\"    # original: iso_all_v1.1.csv\n",
    "df_iso_all_filtered.to_csv(f_out, index=None)  ####### I may want to remove the header"
   ]
  },
  {
   "cell_type": "code",
   "execution_count": null,
   "id": "e0ef9b7f",
   "metadata": {},
   "outputs": [],
   "source": [
    "# Generate a textfile where each line contains the CHESS ID of remaining 132151 samples\n",
    "f_out_filtered_CHESSID = \"CHESS_ID_iso_all_v1.1.filtered.132151.txt\"\n",
    "df_iso_all_filtered[\"CHESS ID\"].to_csv(f_out_filtered_CHESSID, index=None, header=None)"
   ]
  },
  {
   "cell_type": "markdown",
   "id": "d33fbb19",
   "metadata": {},
   "source": [
    "The dimensions of resulting dfs in this file should not changed even after filling in missing GENE with mart_export.txt, because GENE is not used in filtering"
   ]
  }
 ],
 "metadata": {
  "kernelspec": {
   "display_name": "Python 3",
   "language": "python",
   "name": "python3"
  },
  "language_info": {
   "codemirror_mode": {
    "name": "ipython",
    "version": 3
   },
   "file_extension": ".py",
   "mimetype": "text/x-python",
   "name": "python",
   "nbconvert_exporter": "python",
   "pygments_lexer": "ipython3",
   "version": "3.8.8"
  }
 },
 "nbformat": 4,
 "nbformat_minor": 5
}
