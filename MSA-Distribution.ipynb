{
 "cells": [
  {
   "cell_type": "code",
   "execution_count": 14,
   "id": "2d332a49",
   "metadata": {},
   "outputs": [],
   "source": [
    "import pandas as pd\n",
    "import matplotlib.pyplot as plt"
   ]
  },
  {
   "cell_type": "markdown",
   "id": "7a3ca84c",
   "metadata": {},
   "source": [
    "## MSA size distribution"
   ]
  },
  {
   "cell_type": "code",
   "execution_count": 15,
   "id": "7bcf1f5f",
   "metadata": {},
   "outputs": [],
   "source": [
    "f = \"MSAsizes.txt\""
   ]
  },
  {
   "cell_type": "code",
   "execution_count": 16,
   "id": "18b52cfb",
   "metadata": {},
   "outputs": [
    {
     "data": {
      "text/html": [
       "<div>\n",
       "<style scoped>\n",
       "    .dataframe tbody tr th:only-of-type {\n",
       "        vertical-align: middle;\n",
       "    }\n",
       "\n",
       "    .dataframe tbody tr th {\n",
       "        vertical-align: top;\n",
       "    }\n",
       "\n",
       "    .dataframe thead th {\n",
       "        text-align: right;\n",
       "    }\n",
       "</style>\n",
       "<table border=\"1\" class=\"dataframe\">\n",
       "  <thead>\n",
       "    <tr style=\"text-align: right;\">\n",
       "      <th></th>\n",
       "      <th>filename</th>\n",
       "      <th>count</th>\n",
       "    </tr>\n",
       "  </thead>\n",
       "  <tbody>\n",
       "    <tr>\n",
       "      <th>0</th>\n",
       "      <td>ENSP00000263209.filtered.gap.a3m</td>\n",
       "      <td>99</td>\n",
       "    </tr>\n",
       "    <tr>\n",
       "      <th>1</th>\n",
       "      <td>ENSP00000263209.filtered.reformatted.a3m</td>\n",
       "      <td>99</td>\n",
       "    </tr>\n",
       "    <tr>\n",
       "      <th>2</th>\n",
       "      <td>ENSP00000278618.filtered.countVal.a3m</td>\n",
       "      <td>665</td>\n",
       "    </tr>\n",
       "    <tr>\n",
       "      <th>3</th>\n",
       "      <td>ENSP00000278618.filtered.gap.a3m</td>\n",
       "      <td>665</td>\n",
       "    </tr>\n",
       "    <tr>\n",
       "      <th>4</th>\n",
       "      <td>ENSP00000278618.filtered.reformatted.a3m</td>\n",
       "      <td>665</td>\n",
       "    </tr>\n",
       "    <tr>\n",
       "      <th>...</th>\n",
       "      <td>...</td>\n",
       "      <td>...</td>\n",
       "    </tr>\n",
       "    <tr>\n",
       "      <th>682</th>\n",
       "      <td>ENSP00000504450.filtered.gap.a3m</td>\n",
       "      <td>120</td>\n",
       "    </tr>\n",
       "    <tr>\n",
       "      <th>683</th>\n",
       "      <td>ENSP00000504450.filtered.reformatted.a3m</td>\n",
       "      <td>120</td>\n",
       "    </tr>\n",
       "    <tr>\n",
       "      <th>684</th>\n",
       "      <td>fasta_done.dat</td>\n",
       "      <td>0</td>\n",
       "    </tr>\n",
       "    <tr>\n",
       "      <th>685</th>\n",
       "      <td>MSA_sizes.txt</td>\n",
       "      <td>0</td>\n",
       "    </tr>\n",
       "    <tr>\n",
       "      <th>686</th>\n",
       "      <td>MSAsizes.txt</td>\n",
       "      <td>0</td>\n",
       "    </tr>\n",
       "  </tbody>\n",
       "</table>\n",
       "<p>687 rows × 2 columns</p>\n",
       "</div>"
      ],
      "text/plain": [
       "                                     filename  count\n",
       "0            ENSP00000263209.filtered.gap.a3m     99\n",
       "1    ENSP00000263209.filtered.reformatted.a3m     99\n",
       "2       ENSP00000278618.filtered.countVal.a3m    665\n",
       "3            ENSP00000278618.filtered.gap.a3m    665\n",
       "4    ENSP00000278618.filtered.reformatted.a3m    665\n",
       "..                                        ...    ...\n",
       "682          ENSP00000504450.filtered.gap.a3m    120\n",
       "683  ENSP00000504450.filtered.reformatted.a3m    120\n",
       "684                            fasta_done.dat      0\n",
       "685                             MSA_sizes.txt      0\n",
       "686                              MSAsizes.txt      0\n",
       "\n",
       "[687 rows x 2 columns]"
      ]
     },
     "execution_count": 16,
     "metadata": {},
     "output_type": "execute_result"
    }
   ],
   "source": [
    "df = pd.read_csv(f, sep=\",\", header=None, names=[\"filename\", \"count\"])\n",
    "df"
   ]
  },
  {
   "cell_type": "code",
   "execution_count": 17,
   "id": "95453946",
   "metadata": {},
   "outputs": [
    {
     "data": {
      "text/html": [
       "<div>\n",
       "<style scoped>\n",
       "    .dataframe tbody tr th:only-of-type {\n",
       "        vertical-align: middle;\n",
       "    }\n",
       "\n",
       "    .dataframe tbody tr th {\n",
       "        vertical-align: top;\n",
       "    }\n",
       "\n",
       "    .dataframe thead th {\n",
       "        text-align: right;\n",
       "    }\n",
       "</style>\n",
       "<table border=\"1\" class=\"dataframe\">\n",
       "  <thead>\n",
       "    <tr style=\"text-align: right;\">\n",
       "      <th></th>\n",
       "      <th>filename</th>\n",
       "      <th>count</th>\n",
       "    </tr>\n",
       "  </thead>\n",
       "  <tbody>\n",
       "    <tr>\n",
       "      <th>2</th>\n",
       "      <td>ENSP00000278618.filtered.countVal.a3m</td>\n",
       "      <td>665</td>\n",
       "    </tr>\n",
       "    <tr>\n",
       "      <th>5</th>\n",
       "      <td>ENSP00000281127.filtered.countVal.a3m</td>\n",
       "      <td>294</td>\n",
       "    </tr>\n",
       "    <tr>\n",
       "      <th>8</th>\n",
       "      <td>ENSP00000297532.filtered.countVal.a3m</td>\n",
       "      <td>772</td>\n",
       "    </tr>\n",
       "    <tr>\n",
       "      <th>11</th>\n",
       "      <td>ENSP00000304592.filtered.countVal.a3m</td>\n",
       "      <td>192</td>\n",
       "    </tr>\n",
       "    <tr>\n",
       "      <th>14</th>\n",
       "      <td>ENSP00000309857.filtered.countVal.a3m</td>\n",
       "      <td>232</td>\n",
       "    </tr>\n",
       "    <tr>\n",
       "      <th>...</th>\n",
       "      <td>...</td>\n",
       "      <td>...</td>\n",
       "    </tr>\n",
       "    <tr>\n",
       "      <th>665</th>\n",
       "      <td>ENSP00000493455.filtered.countVal.a3m</td>\n",
       "      <td>264</td>\n",
       "    </tr>\n",
       "    <tr>\n",
       "      <th>668</th>\n",
       "      <td>ENSP00000494260.filtered.countVal.a3m</td>\n",
       "      <td>181</td>\n",
       "    </tr>\n",
       "    <tr>\n",
       "      <th>671</th>\n",
       "      <td>ENSP00000495091.filtered.countVal.a3m</td>\n",
       "      <td>270</td>\n",
       "    </tr>\n",
       "    <tr>\n",
       "      <th>676</th>\n",
       "      <td>ENSP00000497112.filtered.countVal.a3m</td>\n",
       "      <td>104</td>\n",
       "    </tr>\n",
       "    <tr>\n",
       "      <th>681</th>\n",
       "      <td>ENSP00000504450.filtered.countVal.a3m</td>\n",
       "      <td>120</td>\n",
       "    </tr>\n",
       "  </tbody>\n",
       "</table>\n",
       "<p>206 rows × 2 columns</p>\n",
       "</div>"
      ],
      "text/plain": [
       "                                  filename  count\n",
       "2    ENSP00000278618.filtered.countVal.a3m    665\n",
       "5    ENSP00000281127.filtered.countVal.a3m    294\n",
       "8    ENSP00000297532.filtered.countVal.a3m    772\n",
       "11   ENSP00000304592.filtered.countVal.a3m    192\n",
       "14   ENSP00000309857.filtered.countVal.a3m    232\n",
       "..                                     ...    ...\n",
       "665  ENSP00000493455.filtered.countVal.a3m    264\n",
       "668  ENSP00000494260.filtered.countVal.a3m    181\n",
       "671  ENSP00000495091.filtered.countVal.a3m    270\n",
       "676  ENSP00000497112.filtered.countVal.a3m    104\n",
       "681  ENSP00000504450.filtered.countVal.a3m    120\n",
       "\n",
       "[206 rows x 2 columns]"
      ]
     },
     "execution_count": 17,
     "metadata": {},
     "output_type": "execute_result"
    }
   ],
   "source": [
    "df_count = df[df['filename'].str.contains(\"countVal\")]\n",
    "df_count"
   ]
  },
  {
   "cell_type": "code",
   "execution_count": 18,
   "id": "75778e8e",
   "metadata": {},
   "outputs": [
    {
     "name": "stdout",
     "output_type": "stream",
     "text": [
      "206\n"
     ]
    }
   ],
   "source": [
    "MSAsize = df_count.shape[0]\n",
    "print(MSAsize)"
   ]
  },
  {
   "cell_type": "code",
   "execution_count": 19,
   "id": "930247ce",
   "metadata": {},
   "outputs": [
    {
     "name": "stdout",
     "output_type": "stream",
     "text": [
      "             count\n",
      "count   206.000000\n",
      "mean    391.572816\n",
      "std     304.976548\n",
      "min     102.000000\n",
      "25%     179.000000\n",
      "50%     251.000000\n",
      "75%     577.250000\n",
      "max    1469.000000\n"
     ]
    }
   ],
   "source": [
    "print(df_count.describe())"
   ]
  },
  {
   "cell_type": "code",
   "execution_count": 20,
   "id": "3bd91faa",
   "metadata": {},
   "outputs": [
    {
     "data": {
      "text/plain": [
       "(array([100.,  42.,  12.,   1.,  21.,  15.,   8.,   3.,   2.,   2.]),\n",
       " array([ 102. ,  238.7,  375.4,  512.1,  648.8,  785.5,  922.2, 1058.9,\n",
       "        1195.6, 1332.3, 1469. ]),\n",
       " <BarContainer object of 10 artists>)"
      ]
     },
     "execution_count": 20,
     "metadata": {},
     "output_type": "execute_result"
    },
    {
     "data": {
      "image/png": "[encoded data removed]",
      "text/plain": [
       "<Figure size 432x288 with 1 Axes>"
      ]
     },
     "metadata": {
      "needs_background": "light"
     },
     "output_type": "display_data"
    }
   ],
   "source": [
    "plt.hist(df_count['count'])"
   ]
  },
  {
   "cell_type": "code",
   "execution_count": 21,
   "id": "1ac49f92",
   "metadata": {},
   "outputs": [
    {
     "data": {
      "text/plain": [
       "(array([10., 27., 37., 12., 14.,  9.,  8.,  5.,  2., 18.,  3.,  0.,  4.,\n",
       "         1.,  4.,  0.,  0.,  0.,  1.,  0.,  3.,  1.,  8.,  6.,  3.,  2.,\n",
       "         3.,  5.,  1.,  4.,  1.,  1.,  2.,  4.,  0.,  2.,  1.,  0.,  0.,\n",
       "         0.,  1.,  0.,  1.,  0.,  0.,  0.,  0.,  1.,  0.,  1.]),\n",
       " array([ 102.  ,  129.34,  156.68,  184.02,  211.36,  238.7 ,  266.04,\n",
       "         293.38,  320.72,  348.06,  375.4 ,  402.74,  430.08,  457.42,\n",
       "         484.76,  512.1 ,  539.44,  566.78,  594.12,  621.46,  648.8 ,\n",
       "         676.14,  703.48,  730.82,  758.16,  785.5 ,  812.84,  840.18,\n",
       "         867.52,  894.86,  922.2 ,  949.54,  976.88, 1004.22, 1031.56,\n",
       "        1058.9 , 1086.24, 1113.58, 1140.92, 1168.26, 1195.6 , 1222.94,\n",
       "        1250.28, 1277.62, 1304.96, 1332.3 , 1359.64, 1386.98, 1414.32,\n",
       "        1441.66, 1469.  ]),\n",
       " <BarContainer object of 50 artists>)"
      ]
     },
     "execution_count": 21,
     "metadata": {},
     "output_type": "execute_result"
    },
    {
     "data": {
      "image/png": "[encoded data removed]",
      "text/plain": [
       "<Figure size 432x288 with 1 Axes>"
      ]
     },
     "metadata": {
      "needs_background": "light"
     },
     "output_type": "display_data"
    }
   ],
   "source": [
    "plt.hist(df_count['count'], bins=50)"
   ]
  },
  {
   "cell_type": "code",
   "execution_count": 22,
   "id": "4120537e",
   "metadata": {},
   "outputs": [
    {
     "data": {
      "text/plain": [
       "(array([ 9.,  1., 22.,  5.,  4., 33.,  6.,  6., 10.,  4.,  4.,  5.,  7.,\n",
       "         1.,  3.,  2.,  0.,  2., 17.,  1.,  1.,  2.,  0.,  0.,  2.,  2.,\n",
       "         1.,  0.,  0.,  4.,  0.,  0.,  0.,  0.,  0.,  0.,  1.,  0.,  0.,\n",
       "         0.,  0.,  3.,  1.,  0.,  8.,  0.,  1.,  5.,  1.,  2.,  2.,  0.,\n",
       "         1.,  2.,  4.,  1.,  1.,  0.,  0.,  4.,  1.,  0.,  0.,  1.,  2.,\n",
       "         0.,  3.,  1.,  0.,  0.,  0.,  2.,  0.,  1.,  0.,  0.,  0.,  0.,\n",
       "         0.,  0.,  0.,  1.,  0.,  0.,  1.,  0.,  0.,  0.,  0.,  0.,  0.,\n",
       "         0.,  0.,  0.,  0.,  1.,  0.,  0.,  0.,  1.]),\n",
       " array([ 102.  ,  115.67,  129.34,  143.01,  156.68,  170.35,  184.02,\n",
       "         197.69,  211.36,  225.03,  238.7 ,  252.37,  266.04,  279.71,\n",
       "         293.38,  307.05,  320.72,  334.39,  348.06,  361.73,  375.4 ,\n",
       "         389.07,  402.74,  416.41,  430.08,  443.75,  457.42,  471.09,\n",
       "         484.76,  498.43,  512.1 ,  525.77,  539.44,  553.11,  566.78,\n",
       "         580.45,  594.12,  607.79,  621.46,  635.13,  648.8 ,  662.47,\n",
       "         676.14,  689.81,  703.48,  717.15,  730.82,  744.49,  758.16,\n",
       "         771.83,  785.5 ,  799.17,  812.84,  826.51,  840.18,  853.85,\n",
       "         867.52,  881.19,  894.86,  908.53,  922.2 ,  935.87,  949.54,\n",
       "         963.21,  976.88,  990.55, 1004.22, 1017.89, 1031.56, 1045.23,\n",
       "        1058.9 , 1072.57, 1086.24, 1099.91, 1113.58, 1127.25, 1140.92,\n",
       "        1154.59, 1168.26, 1181.93, 1195.6 , 1209.27, 1222.94, 1236.61,\n",
       "        1250.28, 1263.95, 1277.62, 1291.29, 1304.96, 1318.63, 1332.3 ,\n",
       "        1345.97, 1359.64, 1373.31, 1386.98, 1400.65, 1414.32, 1427.99,\n",
       "        1441.66, 1455.33, 1469.  ]),\n",
       " <BarContainer object of 100 artists>)"
      ]
     },
     "execution_count": 22,
     "metadata": {},
     "output_type": "execute_result"
    },
    {
     "data": {
      "image/png": "[encoded data removed]",
      "text/plain": [
       "<Figure size 432x288 with 1 Axes>"
      ]
     },
     "metadata": {
      "needs_background": "light"
     },
     "output_type": "display_data"
    }
   ],
   "source": [
    "plt.hist(df_count['count'], bins=100)"
   ]
  },
  {
   "cell_type": "code",
   "execution_count": 23,
   "id": "fbc5ed4a",
   "metadata": {},
   "outputs": [
    {
     "name": "stdout",
     "output_type": "stream",
     "text": [
      "[0, 20, 40, 60, 80, 100, 120, 140, 160, 180, 200, 220, 240, 260, 280, 300, 320, 340, 360, 380, 400, 420, 440, 460, 480, 500, 520, 540, 560, 580, 600, 620, 640, 660, 680, 700, 720, 740, 760, 780, 800, 820, 840, 860, 880, 900, 920, 940, 960, 980, 1000, 1020, 1040, 1060, 1080, 1100, 1120, 1140, 1160, 1180, 1200, 1220, 1240, 1260, 1280, 1300, 1320, 1340, 1360, 1380, 1400, 1420, 1440, 1460, 1480, 1500, 1520, 1540, 1560, 1580]\n"
     ]
    },
    {
     "data": {
      "text/plain": [
       "Text(0, 0.5, 'Count')"
      ]
     },
     "execution_count": 23,
     "metadata": {},
     "output_type": "execute_result"
    },
    {
     "data": {
      "image/png": "[encoded data removed]",
      "text/plain": [
       "<Figure size 432x288 with 1 Axes>"
      ]
     },
     "metadata": {
      "needs_background": "light"
     },
     "output_type": "display_data"
    }
   ],
   "source": [
    "binsize = 20\n",
    "my_list = [i for i in range (0, 1600, binsize)]\n",
    "print(my_list)\n",
    "plt.hist(df_count['count'], bins=my_list)\n",
    "plt.suptitle(\"MSA Size Distribution:\" + \"n = \" + str(MSAsize))\n",
    "plt.title(\"bin size: \" + str(binsize))\n",
    "plt.xlabel(\"MSA Size\")\n",
    "plt.ylabel(\"Count\")"
   ]
  },
  {
   "cell_type": "code",
   "execution_count": 24,
   "id": "36111e98",
   "metadata": {},
   "outputs": [
    {
     "name": "stdout",
     "output_type": "stream",
     "text": [
      "[0, 50, 100, 150, 200, 250, 300, 350, 400, 450, 500, 550, 600, 650, 700, 750, 800, 850, 900, 950, 1000, 1050, 1100, 1150, 1200, 1250, 1300, 1350, 1400, 1450, 1500, 1550]\n"
     ]
    },
    {
     "data": {
      "text/plain": [
       "Text(0, 0.5, 'Count')"
      ]
     },
     "execution_count": 24,
     "metadata": {},
     "output_type": "execute_result"
    },
    {
     "data": {
      "image/png": "[encoded data removed]",
      "text/plain": [
       "<Figure size 432x288 with 1 Axes>"
      ]
     },
     "metadata": {
      "needs_background": "light"
     },
     "output_type": "display_data"
    }
   ],
   "source": [
    "binsize2 = 50\n",
    "my_list2 = [i for i in range (0, 1600, binsize2)]\n",
    "print(my_list2)\n",
    "plt.hist(df_count['count'], bins=my_list2)\n",
    "plt.suptitle(\"MSA Size Distribution:\" + \"n = \" + str(MSAsize))\n",
    "plt.title(\"bin size: \" + str(binsize2))\n",
    "plt.xlabel(\"MSA Size\")\n",
    "plt.ylabel(\"Count\")"
   ]
  },
  {
   "cell_type": "code",
   "execution_count": 25,
   "id": "a556f15b",
   "metadata": {},
   "outputs": [
    {
     "name": "stdout",
     "output_type": "stream",
     "text": [
      "206\n",
      "[665, 294, 772, 192, 232, 747, 930, 1007, 253, 747, 164, 108, 108, 151, 359, 218, 909, 305, 847, 198, 111, 253, 179, 188, 182, 188, 348, 111, 350, 319, 348, 599, 361, 200, 113, 296, 432, 828, 275, 206, 293, 243, 145, 313, 130, 980, 275, 147, 847, 832, 965, 228, 146, 774, 167, 250, 747, 137, 1084, 359, 102, 270, 1469, 681, 919, 1014, 981, 1023, 240, 270, 770, 909, 270, 206, 253, 826, 224, 200, 274, 909, 155, 1009, 502, 392, 1102, 747, 224, 786, 747, 847, 847, 219, 211, 195, 1213, 170, 182, 179, 182, 717, 179, 717, 102, 512, 1263, 182, 137, 879, 179, 137, 359, 359, 139, 159, 215, 137, 349, 456, 139, 187, 356, 218, 179, 135, 182, 179, 717, 393, 359, 177, 232, 182, 182, 218, 137, 672, 512, 182, 182, 137, 103, 182, 379, 445, 137, 787, 218, 182, 218, 182, 182, 717, 182, 1075, 182, 717, 232, 182, 135, 264, 359, 359, 179, 359, 179, 664, 712, 356, 179, 137, 137, 1413, 742, 359, 133, 187, 359, 512, 139, 174, 141, 717, 137, 177, 359, 182, 137, 252, 184, 359, 179, 465, 137, 717, 219, 862, 137, 182, 432, 137, 366, 264, 181, 270, 104, 120]\n"
     ]
    }
   ],
   "source": [
    "list_count = df_count[df_count.columns[1]].values.tolist()\n",
    "print(len(list_count))\n",
    "print(list_count)"
   ]
  },
  {
   "cell_type": "code",
   "execution_count": null,
   "id": "87ce93ed",
   "metadata": {},
   "outputs": [],
   "source": []
  },
  {
   "cell_type": "markdown",
   "id": "3ac7b861",
   "metadata": {},
   "source": [
    "## MSA length distribution"
   ]
  },
  {
   "cell_type": "code",
   "execution_count": 26,
   "id": "d0e3876e",
   "metadata": {},
   "outputs": [],
   "source": [
    "fMaster = \"counts_MSA_seq_countVal.txt\""
   ]
  },
  {
   "cell_type": "code",
   "execution_count": 27,
   "id": "c4955d85",
   "metadata": {},
   "outputs": [
    {
     "data": {
      "text/html": [
       "<div>\n",
       "<style scoped>\n",
       "    .dataframe tbody tr th:only-of-type {\n",
       "        vertical-align: middle;\n",
       "    }\n",
       "\n",
       "    .dataframe tbody tr th {\n",
       "        vertical-align: top;\n",
       "    }\n",
       "\n",
       "    .dataframe thead th {\n",
       "        text-align: right;\n",
       "    }\n",
       "</style>\n",
       "<table border=\"1\" class=\"dataframe\">\n",
       "  <thead>\n",
       "    <tr style=\"text-align: right;\">\n",
       "      <th></th>\n",
       "      <th>ESPN</th>\n",
       "      <th>MSAsize</th>\n",
       "      <th>sequence_lengths</th>\n",
       "    </tr>\n",
       "  </thead>\n",
       "  <tbody>\n",
       "    <tr>\n",
       "      <th>0</th>\n",
       "      <td>ENSP00000278618.filtered.countVal.a3m</td>\n",
       "      <td>665</td>\n",
       "      <td>309</td>\n",
       "    </tr>\n",
       "    <tr>\n",
       "      <th>1</th>\n",
       "      <td>ENSP00000278618.filtered.countVal.a3m</td>\n",
       "      <td>665</td>\n",
       "      <td>309</td>\n",
       "    </tr>\n",
       "    <tr>\n",
       "      <th>2</th>\n",
       "      <td>ENSP00000278618.filtered.countVal.a3m</td>\n",
       "      <td>665</td>\n",
       "      <td>310</td>\n",
       "    </tr>\n",
       "    <tr>\n",
       "      <th>3</th>\n",
       "      <td>ENSP00000278618.filtered.countVal.a3m</td>\n",
       "      <td>665</td>\n",
       "      <td>310</td>\n",
       "    </tr>\n",
       "    <tr>\n",
       "      <th>4</th>\n",
       "      <td>ENSP00000278618.filtered.countVal.a3m</td>\n",
       "      <td>665</td>\n",
       "      <td>318</td>\n",
       "    </tr>\n",
       "    <tr>\n",
       "      <th>...</th>\n",
       "      <td>...</td>\n",
       "      <td>...</td>\n",
       "      <td>...</td>\n",
       "    </tr>\n",
       "    <tr>\n",
       "      <th>80659</th>\n",
       "      <td>ENSP00000504450.filtered.countVal.a3m</td>\n",
       "      <td>120</td>\n",
       "      <td>800</td>\n",
       "    </tr>\n",
       "    <tr>\n",
       "      <th>80660</th>\n",
       "      <td>ENSP00000504450.filtered.countVal.a3m</td>\n",
       "      <td>120</td>\n",
       "      <td>397</td>\n",
       "    </tr>\n",
       "    <tr>\n",
       "      <th>80661</th>\n",
       "      <td>ENSP00000504450.filtered.countVal.a3m</td>\n",
       "      <td>120</td>\n",
       "      <td>412</td>\n",
       "    </tr>\n",
       "    <tr>\n",
       "      <th>80662</th>\n",
       "      <td>ENSP00000504450.filtered.countVal.a3m</td>\n",
       "      <td>120</td>\n",
       "      <td>600</td>\n",
       "    </tr>\n",
       "    <tr>\n",
       "      <th>80663</th>\n",
       "      <td>ENSP00000504450.filtered.countVal.a3m</td>\n",
       "      <td>120</td>\n",
       "      <td>402</td>\n",
       "    </tr>\n",
       "  </tbody>\n",
       "</table>\n",
       "<p>80664 rows × 3 columns</p>\n",
       "</div>"
      ],
      "text/plain": [
       "                                        ESPN  MSAsize  sequence_lengths\n",
       "0      ENSP00000278618.filtered.countVal.a3m      665               309\n",
       "1      ENSP00000278618.filtered.countVal.a3m      665               309\n",
       "2      ENSP00000278618.filtered.countVal.a3m      665               310\n",
       "3      ENSP00000278618.filtered.countVal.a3m      665               310\n",
       "4      ENSP00000278618.filtered.countVal.a3m      665               318\n",
       "...                                      ...      ...               ...\n",
       "80659  ENSP00000504450.filtered.countVal.a3m      120               800\n",
       "80660  ENSP00000504450.filtered.countVal.a3m      120               397\n",
       "80661  ENSP00000504450.filtered.countVal.a3m      120               412\n",
       "80662  ENSP00000504450.filtered.countVal.a3m      120               600\n",
       "80663  ENSP00000504450.filtered.countVal.a3m      120               402\n",
       "\n",
       "[80664 rows x 3 columns]"
      ]
     },
     "execution_count": 27,
     "metadata": {},
     "output_type": "execute_result"
    }
   ],
   "source": [
    "df_master = pd.read_csv(fMaster, header=None, names=[\"ESPN\", \"MSAsize\", \"sequence_lengths\"])\n",
    "df_master"
   ]
  },
  {
   "cell_type": "code",
   "execution_count": 28,
   "id": "f3d13576",
   "metadata": {},
   "outputs": [
    {
     "data": {
      "text/html": [
       "<div>\n",
       "<style scoped>\n",
       "    .dataframe tbody tr th:only-of-type {\n",
       "        vertical-align: middle;\n",
       "    }\n",
       "\n",
       "    .dataframe tbody tr th {\n",
       "        vertical-align: top;\n",
       "    }\n",
       "\n",
       "    .dataframe thead th {\n",
       "        text-align: right;\n",
       "    }\n",
       "</style>\n",
       "<table border=\"1\" class=\"dataframe\">\n",
       "  <thead>\n",
       "    <tr style=\"text-align: right;\">\n",
       "      <th></th>\n",
       "      <th>MSAsize</th>\n",
       "      <th>sequence_lengths</th>\n",
       "    </tr>\n",
       "  </thead>\n",
       "  <tbody>\n",
       "    <tr>\n",
       "      <th>count</th>\n",
       "      <td>80664.000000</td>\n",
       "      <td>80664.000000</td>\n",
       "    </tr>\n",
       "    <tr>\n",
       "      <th>mean</th>\n",
       "      <td>627.950783</td>\n",
       "      <td>328.183266</td>\n",
       "    </tr>\n",
       "    <tr>\n",
       "      <th>std</th>\n",
       "      <td>358.047510</td>\n",
       "      <td>345.270282</td>\n",
       "    </tr>\n",
       "    <tr>\n",
       "      <th>min</th>\n",
       "      <td>102.000000</td>\n",
       "      <td>40.000000</td>\n",
       "    </tr>\n",
       "    <tr>\n",
       "      <th>25%</th>\n",
       "      <td>270.000000</td>\n",
       "      <td>93.000000</td>\n",
       "    </tr>\n",
       "    <tr>\n",
       "      <th>50%</th>\n",
       "      <td>717.000000</td>\n",
       "      <td>234.000000</td>\n",
       "    </tr>\n",
       "    <tr>\n",
       "      <th>75%</th>\n",
       "      <td>909.000000</td>\n",
       "      <td>455.250000</td>\n",
       "    </tr>\n",
       "    <tr>\n",
       "      <th>max</th>\n",
       "      <td>1469.000000</td>\n",
       "      <td>3408.000000</td>\n",
       "    </tr>\n",
       "  </tbody>\n",
       "</table>\n",
       "</div>"
      ],
      "text/plain": [
       "            MSAsize  sequence_lengths\n",
       "count  80664.000000      80664.000000\n",
       "mean     627.950783        328.183266\n",
       "std      358.047510        345.270282\n",
       "min      102.000000         40.000000\n",
       "25%      270.000000         93.000000\n",
       "50%      717.000000        234.000000\n",
       "75%      909.000000        455.250000\n",
       "max     1469.000000       3408.000000"
      ]
     },
     "execution_count": 28,
     "metadata": {},
     "output_type": "execute_result"
    }
   ],
   "source": [
    "df_master.describe()"
   ]
  },
  {
   "cell_type": "code",
   "execution_count": 34,
   "id": "f41b6ad6",
   "metadata": {},
   "outputs": [
    {
     "data": {
      "text/html": [
       "<div>\n",
       "<style scoped>\n",
       "    .dataframe tbody tr th:only-of-type {\n",
       "        vertical-align: middle;\n",
       "    }\n",
       "\n",
       "    .dataframe tbody tr th {\n",
       "        vertical-align: top;\n",
       "    }\n",
       "\n",
       "    .dataframe thead th {\n",
       "        text-align: right;\n",
       "    }\n",
       "</style>\n",
       "<table border=\"1\" class=\"dataframe\">\n",
       "  <thead>\n",
       "    <tr style=\"text-align: right;\">\n",
       "      <th></th>\n",
       "      <th>ESPN</th>\n",
       "      <th>MSAsize</th>\n",
       "      <th>sequence_lengths</th>\n",
       "    </tr>\n",
       "  </thead>\n",
       "  <tbody>\n",
       "    <tr>\n",
       "      <th>1923</th>\n",
       "      <td>ENSP00000309857.filtered.countVal.a3m</td>\n",
       "      <td>232</td>\n",
       "      <td>143</td>\n",
       "    </tr>\n",
       "    <tr>\n",
       "      <th>1925</th>\n",
       "      <td>ENSP00000309857.filtered.countVal.a3m</td>\n",
       "      <td>232</td>\n",
       "      <td>145</td>\n",
       "    </tr>\n",
       "    <tr>\n",
       "      <th>1926</th>\n",
       "      <td>ENSP00000309857.filtered.countVal.a3m</td>\n",
       "      <td>232</td>\n",
       "      <td>143</td>\n",
       "    </tr>\n",
       "    <tr>\n",
       "      <th>1927</th>\n",
       "      <td>ENSP00000309857.filtered.countVal.a3m</td>\n",
       "      <td>232</td>\n",
       "      <td>146</td>\n",
       "    </tr>\n",
       "    <tr>\n",
       "      <th>1928</th>\n",
       "      <td>ENSP00000309857.filtered.countVal.a3m</td>\n",
       "      <td>232</td>\n",
       "      <td>148</td>\n",
       "    </tr>\n",
       "    <tr>\n",
       "      <th>...</th>\n",
       "      <td>...</td>\n",
       "      <td>...</td>\n",
       "      <td>...</td>\n",
       "    </tr>\n",
       "    <tr>\n",
       "      <th>78466</th>\n",
       "      <td>ENSP00000493426.filtered.countVal.a3m</td>\n",
       "      <td>862</td>\n",
       "      <td>44</td>\n",
       "    </tr>\n",
       "    <tr>\n",
       "      <th>78467</th>\n",
       "      <td>ENSP00000493426.filtered.countVal.a3m</td>\n",
       "      <td>862</td>\n",
       "      <td>48</td>\n",
       "    </tr>\n",
       "    <tr>\n",
       "      <th>78468</th>\n",
       "      <td>ENSP00000493426.filtered.countVal.a3m</td>\n",
       "      <td>862</td>\n",
       "      <td>44</td>\n",
       "    </tr>\n",
       "    <tr>\n",
       "      <th>78469</th>\n",
       "      <td>ENSP00000493426.filtered.countVal.a3m</td>\n",
       "      <td>862</td>\n",
       "      <td>44</td>\n",
       "    </tr>\n",
       "    <tr>\n",
       "      <th>78470</th>\n",
       "      <td>ENSP00000493426.filtered.countVal.a3m</td>\n",
       "      <td>862</td>\n",
       "      <td>45</td>\n",
       "    </tr>\n",
       "  </tbody>\n",
       "</table>\n",
       "<p>31074 rows × 3 columns</p>\n",
       "</div>"
      ],
      "text/plain": [
       "                                        ESPN  MSAsize  sequence_lengths\n",
       "1923   ENSP00000309857.filtered.countVal.a3m      232               143\n",
       "1925   ENSP00000309857.filtered.countVal.a3m      232               145\n",
       "1926   ENSP00000309857.filtered.countVal.a3m      232               143\n",
       "1927   ENSP00000309857.filtered.countVal.a3m      232               146\n",
       "1928   ENSP00000309857.filtered.countVal.a3m      232               148\n",
       "...                                      ...      ...               ...\n",
       "78466  ENSP00000493426.filtered.countVal.a3m      862                44\n",
       "78467  ENSP00000493426.filtered.countVal.a3m      862                48\n",
       "78468  ENSP00000493426.filtered.countVal.a3m      862                44\n",
       "78469  ENSP00000493426.filtered.countVal.a3m      862                44\n",
       "78470  ENSP00000493426.filtered.countVal.a3m      862                45\n",
       "\n",
       "[31074 rows x 3 columns]"
      ]
     },
     "execution_count": 34,
     "metadata": {},
     "output_type": "execute_result"
    }
   ],
   "source": [
    "df_master[df_master[\"sequence_lengths\"] <= 150]"
   ]
  },
  {
   "cell_type": "markdown",
   "id": "dbee64b4",
   "metadata": {},
   "source": [
    "Range: 0-3500"
   ]
  },
  {
   "cell_type": "code",
   "execution_count": 18,
   "id": "f0922395",
   "metadata": {},
   "outputs": [
    {
     "name": "stdout",
     "output_type": "stream",
     "text": [
      "[0, 20, 40, 60, 80, 100, 120, 140, 160, 180, 200, 220, 240, 260, 280, 300, 320, 340, 360, 380, 400, 420, 440, 460, 480, 500, 520, 540, 560, 580, 600, 620, 640, 660, 680, 700, 720, 740, 760, 780, 800, 820, 840, 860, 880, 900, 920, 940, 960, 980, 1000, 1020, 1040, 1060, 1080, 1100, 1120, 1140, 1160, 1180, 1200, 1220, 1240, 1260, 1280, 1300, 1320, 1340, 1360, 1380, 1400, 1420, 1440, 1460, 1480, 1500, 1520, 1540, 1560, 1580, 1600, 1620, 1640, 1660, 1680, 1700, 1720, 1740, 1760, 1780, 1800, 1820, 1840, 1860, 1880, 1900, 1920, 1940, 1960, 1980, 2000, 2020, 2040, 2060, 2080, 2100, 2120, 2140, 2160, 2180, 2200, 2220, 2240, 2260, 2280, 2300, 2320, 2340, 2360, 2380, 2400, 2420, 2440, 2460, 2480, 2500, 2520, 2540, 2560, 2580, 2600, 2620, 2640, 2660, 2680, 2700, 2720, 2740, 2760, 2780, 2800, 2820, 2840, 2860, 2880, 2900, 2920, 2940, 2960, 2980, 3000, 3020, 3040, 3060, 3080, 3100, 3120, 3140, 3160, 3180, 3200, 3220, 3240, 3260, 3280, 3300, 3320, 3340, 3360, 3380, 3400, 3420, 3440, 3460, 3480]\n"
     ]
    },
    {
     "data": {
      "text/plain": [
       "Text(0, 0.5, 'Count')"
      ]
     },
     "execution_count": 18,
     "metadata": {},
     "output_type": "execute_result"
    },
    {
     "data": {
      "image/png": "[encoded data removed]",
      "text/plain": [
       "<Figure size 432x288 with 1 Axes>"
      ]
     },
     "metadata": {
      "needs_background": "light"
     },
     "output_type": "display_data"
    }
   ],
   "source": [
    "binsize = 20\n",
    "my_list = [i for i in range (0, 3500, binsize)]\n",
    "print(my_list)\n",
    "plt.hist(df_master['sequence_lengths'], bins=my_list)\n",
    "plt.suptitle(\"Sequence Lengths Distribution: n = \" + str(df_master['sequence_lengths'].shape[0]))\n",
    "plt.title(\"bin size: \" + str(binsize))\n",
    "plt.xlabel(\"Sequence Length\")\n",
    "plt.ylabel(\"Count\")"
   ]
  },
  {
   "cell_type": "code",
   "execution_count": 19,
   "id": "5520f556",
   "metadata": {},
   "outputs": [
    {
     "name": "stdout",
     "output_type": "stream",
     "text": [
      "[0, 50, 100, 150, 200, 250, 300, 350, 400, 450, 500, 550, 600, 650, 700, 750, 800, 850, 900, 950, 1000, 1050, 1100, 1150, 1200, 1250, 1300, 1350, 1400, 1450, 1500, 1550, 1600, 1650, 1700, 1750, 1800, 1850, 1900, 1950, 2000, 2050, 2100, 2150, 2200, 2250, 2300, 2350, 2400, 2450, 2500, 2550, 2600, 2650, 2700, 2750, 2800, 2850, 2900, 2950, 3000, 3050, 3100, 3150, 3200, 3250, 3300, 3350, 3400, 3450]\n"
     ]
    },
    {
     "data": {
      "text/plain": [
       "Text(0, 0.5, 'Count')"
      ]
     },
     "execution_count": 19,
     "metadata": {},
     "output_type": "execute_result"
    },
    {
     "data": {
      "image/png": "[encoded data removed]",
      "text/plain": [
       "<Figure size 432x288 with 1 Axes>"
      ]
     },
     "metadata": {
      "needs_background": "light"
     },
     "output_type": "display_data"
    }
   ],
   "source": [
    "binsize = 50\n",
    "my_list = [i for i in range (0, 3500, binsize)]\n",
    "print(my_list)\n",
    "plt.hist(df_master['sequence_lengths'], bins=my_list)\n",
    "plt.suptitle(\"Sequence Lengths Distribution: n = \" + str(df_master['sequence_lengths'].shape[0]))\n",
    "plt.title(\"bin size: \" + str(binsize))\n",
    "plt.xlabel(\"Sequence Length\")\n",
    "plt.ylabel(\"Count\")"
   ]
  },
  {
   "cell_type": "markdown",
   "id": "d577ef5f",
   "metadata": {},
   "source": [
    "Range: 0-1600"
   ]
  },
  {
   "cell_type": "code",
   "execution_count": 20,
   "id": "dd91e42d",
   "metadata": {},
   "outputs": [
    {
     "name": "stdout",
     "output_type": "stream",
     "text": [
      "[0, 20, 40, 60, 80, 100, 120, 140, 160, 180, 200, 220, 240, 260, 280, 300, 320, 340, 360, 380, 400, 420, 440, 460, 480, 500, 520, 540, 560, 580, 600, 620, 640, 660, 680, 700, 720, 740, 760, 780, 800, 820, 840, 860, 880, 900, 920, 940, 960, 980, 1000, 1020, 1040, 1060, 1080, 1100, 1120, 1140, 1160, 1180, 1200, 1220, 1240, 1260, 1280, 1300, 1320, 1340, 1360, 1380, 1400, 1420, 1440, 1460, 1480, 1500, 1520, 1540, 1560, 1580]\n"
     ]
    },
    {
     "data": {
      "text/plain": [
       "Text(0, 0.5, 'Count')"
      ]
     },
     "execution_count": 20,
     "metadata": {},
     "output_type": "execute_result"
    },
    {
     "data": {
      "image/png": "[encoded data removed]",
      "text/plain": [
       "<Figure size 432x288 with 1 Axes>"
      ]
     },
     "metadata": {
      "needs_background": "light"
     },
     "output_type": "display_data"
    }
   ],
   "source": [
    "binsize = 20\n",
    "my_list = [i for i in range (0, 1600, binsize)]\n",
    "print(my_list)\n",
    "plt.hist(df_master['sequence_lengths'], bins=my_list)\n",
    "plt.suptitle(\"Sequence Lengths Distribution: n = \" + str(df_master['sequence_lengths'].shape[0]))\n",
    "plt.title(\"bin size: \" + str(binsize))\n",
    "plt.xlabel(\"Sequence Length\")\n",
    "plt.ylabel(\"Count\")"
   ]
  },
  {
   "cell_type": "code",
   "execution_count": 21,
   "id": "16d308be",
   "metadata": {},
   "outputs": [
    {
     "name": "stdout",
     "output_type": "stream",
     "text": [
      "[0, 50, 100, 150, 200, 250, 300, 350, 400, 450, 500, 550, 600, 650, 700, 750, 800, 850, 900, 950, 1000, 1050, 1100, 1150, 1200, 1250, 1300, 1350, 1400, 1450, 1500, 1550]\n"
     ]
    },
    {
     "data": {
      "text/plain": [
       "Text(0, 0.5, 'Count')"
      ]
     },
     "execution_count": 21,
     "metadata": {},
     "output_type": "execute_result"
    },
    {
     "data": {
      "image/png": "[encoded data removed]",
      "text/plain": [
       "<Figure size 432x288 with 1 Axes>"
      ]
     },
     "metadata": {
      "needs_background": "light"
     },
     "output_type": "display_data"
    }
   ],
   "source": [
    "binsize = 50\n",
    "my_list = [i for i in range (0, 1600, binsize)]\n",
    "print(my_list)\n",
    "plt.hist(df_master['sequence_lengths'], bins=my_list)\n",
    "plt.suptitle(\"Sequence Lengths Distribution: n = \" + str(df_master['sequence_lengths'].shape[0]))\n",
    "plt.title(\"bin size: \" + str(binsize))\n",
    "plt.xlabel(\"Sequence Length\")\n",
    "plt.ylabel(\"Count\")"
   ]
  },
  {
   "cell_type": "code",
   "execution_count": 22,
   "id": "ca3b08b1",
   "metadata": {},
   "outputs": [
    {
     "data": {
      "text/html": [
       "<div>\n",
       "<style scoped>\n",
       "    .dataframe tbody tr th:only-of-type {\n",
       "        vertical-align: middle;\n",
       "    }\n",
       "\n",
       "    .dataframe tbody tr th {\n",
       "        vertical-align: top;\n",
       "    }\n",
       "\n",
       "    .dataframe thead th {\n",
       "        text-align: right;\n",
       "    }\n",
       "</style>\n",
       "<table border=\"1\" class=\"dataframe\">\n",
       "  <thead>\n",
       "    <tr style=\"text-align: right;\">\n",
       "      <th></th>\n",
       "      <th>ESPN</th>\n",
       "      <th>MSAsize</th>\n",
       "      <th>sequence_lengths</th>\n",
       "    </tr>\n",
       "  </thead>\n",
       "  <tbody>\n",
       "    <tr>\n",
       "      <th>45874</th>\n",
       "      <td>ENSP00000491304.filtered.countVal.a3m</td>\n",
       "      <td>717</td>\n",
       "      <td>40</td>\n",
       "    </tr>\n",
       "    <tr>\n",
       "      <th>73765</th>\n",
       "      <td>ENSP00000493361.filtered.countVal.a3m</td>\n",
       "      <td>717</td>\n",
       "      <td>40</td>\n",
       "    </tr>\n",
       "    <tr>\n",
       "      <th>73766</th>\n",
       "      <td>ENSP00000493361.filtered.countVal.a3m</td>\n",
       "      <td>717</td>\n",
       "      <td>40</td>\n",
       "    </tr>\n",
       "    <tr>\n",
       "      <th>73767</th>\n",
       "      <td>ENSP00000493361.filtered.countVal.a3m</td>\n",
       "      <td>717</td>\n",
       "      <td>40</td>\n",
       "    </tr>\n",
       "    <tr>\n",
       "      <th>73768</th>\n",
       "      <td>ENSP00000493361.filtered.countVal.a3m</td>\n",
       "      <td>717</td>\n",
       "      <td>40</td>\n",
       "    </tr>\n",
       "    <tr>\n",
       "      <th>...</th>\n",
       "      <td>...</td>\n",
       "      <td>...</td>\n",
       "      <td>...</td>\n",
       "    </tr>\n",
       "    <tr>\n",
       "      <th>43803</th>\n",
       "      <td>ENSP00000488964.filtered.countVal.a3m</td>\n",
       "      <td>195</td>\n",
       "      <td>3155</td>\n",
       "    </tr>\n",
       "    <tr>\n",
       "      <th>13026</th>\n",
       "      <td>ENSP00000395929.filtered.countVal.a3m</td>\n",
       "      <td>113</td>\n",
       "      <td>3191</td>\n",
       "    </tr>\n",
       "    <tr>\n",
       "      <th>13046</th>\n",
       "      <td>ENSP00000395929.filtered.countVal.a3m</td>\n",
       "      <td>113</td>\n",
       "      <td>3199</td>\n",
       "    </tr>\n",
       "    <tr>\n",
       "      <th>12993</th>\n",
       "      <td>ENSP00000395929.filtered.countVal.a3m</td>\n",
       "      <td>113</td>\n",
       "      <td>3272</td>\n",
       "    </tr>\n",
       "    <tr>\n",
       "      <th>13005</th>\n",
       "      <td>ENSP00000395929.filtered.countVal.a3m</td>\n",
       "      <td>113</td>\n",
       "      <td>3408</td>\n",
       "    </tr>\n",
       "  </tbody>\n",
       "</table>\n",
       "<p>80664 rows × 3 columns</p>\n",
       "</div>"
      ],
      "text/plain": [
       "                                        ESPN  MSAsize  sequence_lengths\n",
       "45874  ENSP00000491304.filtered.countVal.a3m      717                40\n",
       "73765  ENSP00000493361.filtered.countVal.a3m      717                40\n",
       "73766  ENSP00000493361.filtered.countVal.a3m      717                40\n",
       "73767  ENSP00000493361.filtered.countVal.a3m      717                40\n",
       "73768  ENSP00000493361.filtered.countVal.a3m      717                40\n",
       "...                                      ...      ...               ...\n",
       "43803  ENSP00000488964.filtered.countVal.a3m      195              3155\n",
       "13026  ENSP00000395929.filtered.countVal.a3m      113              3191\n",
       "13046  ENSP00000395929.filtered.countVal.a3m      113              3199\n",
       "12993  ENSP00000395929.filtered.countVal.a3m      113              3272\n",
       "13005  ENSP00000395929.filtered.countVal.a3m      113              3408\n",
       "\n",
       "[80664 rows x 3 columns]"
      ]
     },
     "execution_count": 22,
     "metadata": {},
     "output_type": "execute_result"
    }
   ],
   "source": [
    "df_master.sort_values(by=\"sequence_lengths\")"
   ]
  },
  {
   "cell_type": "code",
   "execution_count": 23,
   "id": "100d7ad5",
   "metadata": {},
   "outputs": [
    {
     "data": {
      "text/html": [
       "<div>\n",
       "<style scoped>\n",
       "    .dataframe tbody tr th:only-of-type {\n",
       "        vertical-align: middle;\n",
       "    }\n",
       "\n",
       "    .dataframe tbody tr th {\n",
       "        vertical-align: top;\n",
       "    }\n",
       "\n",
       "    .dataframe thead th {\n",
       "        text-align: right;\n",
       "    }\n",
       "</style>\n",
       "<table border=\"1\" class=\"dataframe\">\n",
       "  <thead>\n",
       "    <tr style=\"text-align: right;\">\n",
       "      <th></th>\n",
       "      <th>ESPN</th>\n",
       "      <th>MSAsize</th>\n",
       "      <th>sequence_lengths</th>\n",
       "    </tr>\n",
       "  </thead>\n",
       "  <tbody>\n",
       "    <tr>\n",
       "      <th>0</th>\n",
       "      <td>ENSP00000278618.filtered.countVal.a3m</td>\n",
       "      <td>665</td>\n",
       "      <td>309</td>\n",
       "    </tr>\n",
       "    <tr>\n",
       "      <th>1</th>\n",
       "      <td>ENSP00000278618.filtered.countVal.a3m</td>\n",
       "      <td>665</td>\n",
       "      <td>309</td>\n",
       "    </tr>\n",
       "    <tr>\n",
       "      <th>2</th>\n",
       "      <td>ENSP00000278618.filtered.countVal.a3m</td>\n",
       "      <td>665</td>\n",
       "      <td>310</td>\n",
       "    </tr>\n",
       "    <tr>\n",
       "      <th>3</th>\n",
       "      <td>ENSP00000278618.filtered.countVal.a3m</td>\n",
       "      <td>665</td>\n",
       "      <td>310</td>\n",
       "    </tr>\n",
       "    <tr>\n",
       "      <th>4</th>\n",
       "      <td>ENSP00000278618.filtered.countVal.a3m</td>\n",
       "      <td>665</td>\n",
       "      <td>318</td>\n",
       "    </tr>\n",
       "    <tr>\n",
       "      <th>...</th>\n",
       "      <td>...</td>\n",
       "      <td>...</td>\n",
       "      <td>...</td>\n",
       "    </tr>\n",
       "    <tr>\n",
       "      <th>80659</th>\n",
       "      <td>ENSP00000504450.filtered.countVal.a3m</td>\n",
       "      <td>120</td>\n",
       "      <td>800</td>\n",
       "    </tr>\n",
       "    <tr>\n",
       "      <th>80660</th>\n",
       "      <td>ENSP00000504450.filtered.countVal.a3m</td>\n",
       "      <td>120</td>\n",
       "      <td>397</td>\n",
       "    </tr>\n",
       "    <tr>\n",
       "      <th>80661</th>\n",
       "      <td>ENSP00000504450.filtered.countVal.a3m</td>\n",
       "      <td>120</td>\n",
       "      <td>412</td>\n",
       "    </tr>\n",
       "    <tr>\n",
       "      <th>80662</th>\n",
       "      <td>ENSP00000504450.filtered.countVal.a3m</td>\n",
       "      <td>120</td>\n",
       "      <td>600</td>\n",
       "    </tr>\n",
       "    <tr>\n",
       "      <th>80663</th>\n",
       "      <td>ENSP00000504450.filtered.countVal.a3m</td>\n",
       "      <td>120</td>\n",
       "      <td>402</td>\n",
       "    </tr>\n",
       "  </tbody>\n",
       "</table>\n",
       "<p>80664 rows × 3 columns</p>\n",
       "</div>"
      ],
      "text/plain": [
       "                                        ESPN  MSAsize  sequence_lengths\n",
       "0      ENSP00000278618.filtered.countVal.a3m      665               309\n",
       "1      ENSP00000278618.filtered.countVal.a3m      665               309\n",
       "2      ENSP00000278618.filtered.countVal.a3m      665               310\n",
       "3      ENSP00000278618.filtered.countVal.a3m      665               310\n",
       "4      ENSP00000278618.filtered.countVal.a3m      665               318\n",
       "...                                      ...      ...               ...\n",
       "80659  ENSP00000504450.filtered.countVal.a3m      120               800\n",
       "80660  ENSP00000504450.filtered.countVal.a3m      120               397\n",
       "80661  ENSP00000504450.filtered.countVal.a3m      120               412\n",
       "80662  ENSP00000504450.filtered.countVal.a3m      120               600\n",
       "80663  ENSP00000504450.filtered.countVal.a3m      120               402\n",
       "\n",
       "[80664 rows x 3 columns]"
      ]
     },
     "execution_count": 23,
     "metadata": {},
     "output_type": "execute_result"
    }
   ],
   "source": [
    "df_master"
   ]
  },
  {
   "cell_type": "code",
   "execution_count": 24,
   "id": "afd25118",
   "metadata": {},
   "outputs": [
    {
     "data": {
      "text/plain": [
       "717    5019\n",
       "359    4308\n",
       "747    3735\n",
       "847    3388\n",
       "182    3276\n",
       "       ... \n",
       "130     130\n",
       "120     120\n",
       "113     113\n",
       "104     104\n",
       "103     103\n",
       "Name: MSAsize, Length: 110, dtype: int64"
      ]
     },
     "execution_count": 24,
     "metadata": {},
     "output_type": "execute_result"
    }
   ],
   "source": [
    "df_master[\"MSAsize\"].value_counts(sort=True)"
   ]
  },
  {
   "cell_type": "code",
   "execution_count": 25,
   "id": "56830578",
   "metadata": {},
   "outputs": [
    {
     "data": {
      "text/html": [
       "<div>\n",
       "<style scoped>\n",
       "    .dataframe tbody tr th:only-of-type {\n",
       "        vertical-align: middle;\n",
       "    }\n",
       "\n",
       "    .dataframe tbody tr th {\n",
       "        vertical-align: top;\n",
       "    }\n",
       "\n",
       "    .dataframe thead th {\n",
       "        text-align: right;\n",
       "    }\n",
       "</style>\n",
       "<table border=\"1\" class=\"dataframe\">\n",
       "  <thead>\n",
       "    <tr style=\"text-align: right;\">\n",
       "      <th></th>\n",
       "      <th>ESPN</th>\n",
       "      <th>MSAsize</th>\n",
       "      <th>sequence_lengths</th>\n",
       "    </tr>\n",
       "  </thead>\n",
       "  <tbody>\n",
       "    <tr>\n",
       "      <th>34358</th>\n",
       "      <td>ENSP00000450608.filtered.countVal.a3m</td>\n",
       "      <td>224</td>\n",
       "      <td>44</td>\n",
       "    </tr>\n",
       "    <tr>\n",
       "      <th>34365</th>\n",
       "      <td>ENSP00000450608.filtered.countVal.a3m</td>\n",
       "      <td>224</td>\n",
       "      <td>44</td>\n",
       "    </tr>\n",
       "    <tr>\n",
       "      <th>34368</th>\n",
       "      <td>ENSP00000450608.filtered.countVal.a3m</td>\n",
       "      <td>224</td>\n",
       "      <td>44</td>\n",
       "    </tr>\n",
       "    <tr>\n",
       "      <th>34376</th>\n",
       "      <td>ENSP00000450608.filtered.countVal.a3m</td>\n",
       "      <td>224</td>\n",
       "      <td>44</td>\n",
       "    </tr>\n",
       "    <tr>\n",
       "      <th>34387</th>\n",
       "      <td>ENSP00000450608.filtered.countVal.a3m</td>\n",
       "      <td>224</td>\n",
       "      <td>44</td>\n",
       "    </tr>\n",
       "    <tr>\n",
       "      <th>...</th>\n",
       "      <td>...</td>\n",
       "      <td>...</td>\n",
       "      <td>...</td>\n",
       "    </tr>\n",
       "    <tr>\n",
       "      <th>78464</th>\n",
       "      <td>ENSP00000493426.filtered.countVal.a3m</td>\n",
       "      <td>862</td>\n",
       "      <td>44</td>\n",
       "    </tr>\n",
       "    <tr>\n",
       "      <th>78465</th>\n",
       "      <td>ENSP00000493426.filtered.countVal.a3m</td>\n",
       "      <td>862</td>\n",
       "      <td>44</td>\n",
       "    </tr>\n",
       "    <tr>\n",
       "      <th>78466</th>\n",
       "      <td>ENSP00000493426.filtered.countVal.a3m</td>\n",
       "      <td>862</td>\n",
       "      <td>44</td>\n",
       "    </tr>\n",
       "    <tr>\n",
       "      <th>78468</th>\n",
       "      <td>ENSP00000493426.filtered.countVal.a3m</td>\n",
       "      <td>862</td>\n",
       "      <td>44</td>\n",
       "    </tr>\n",
       "    <tr>\n",
       "      <th>78469</th>\n",
       "      <td>ENSP00000493426.filtered.countVal.a3m</td>\n",
       "      <td>862</td>\n",
       "      <td>44</td>\n",
       "    </tr>\n",
       "  </tbody>\n",
       "</table>\n",
       "<p>703 rows × 3 columns</p>\n",
       "</div>"
      ],
      "text/plain": [
       "                                        ESPN  MSAsize  sequence_lengths\n",
       "34358  ENSP00000450608.filtered.countVal.a3m      224                44\n",
       "34365  ENSP00000450608.filtered.countVal.a3m      224                44\n",
       "34368  ENSP00000450608.filtered.countVal.a3m      224                44\n",
       "34376  ENSP00000450608.filtered.countVal.a3m      224                44\n",
       "34387  ENSP00000450608.filtered.countVal.a3m      224                44\n",
       "...                                      ...      ...               ...\n",
       "78464  ENSP00000493426.filtered.countVal.a3m      862                44\n",
       "78465  ENSP00000493426.filtered.countVal.a3m      862                44\n",
       "78466  ENSP00000493426.filtered.countVal.a3m      862                44\n",
       "78468  ENSP00000493426.filtered.countVal.a3m      862                44\n",
       "78469  ENSP00000493426.filtered.countVal.a3m      862                44\n",
       "\n",
       "[703 rows x 3 columns]"
      ]
     },
     "execution_count": 25,
     "metadata": {},
     "output_type": "execute_result"
    }
   ],
   "source": [
    "df_master[df_master['sequence_lengths'] == 44]"
   ]
  },
  {
   "cell_type": "code",
   "execution_count": 26,
   "id": "458f7c9e",
   "metadata": {
    "scrolled": true
   },
   "outputs": [
    {
     "data": {
      "text/plain": [
       "ESPN                                   MSAsize  sequence_lengths\n",
       "ENSP00000493426.filtered.countVal.a3m  862      44                  583\n",
       "ENSP00000450608.filtered.countVal.a3m  224      44                   12\n",
       "ENSP00000451814.filtered.countVal.a3m  224      44                   12\n",
       "ENSP00000452353.filtered.countVal.a3m  219      44                   12\n",
       "ENSP00000491304.filtered.countVal.a3m  717      44                   12\n",
       "ENSP00000491414.filtered.countVal.a3m  717      44                   12\n",
       "ENSP00000492956.filtered.countVal.a3m  717      44                   12\n",
       "ENSP00000493125.filtered.countVal.a3m  717      44                   12\n",
       "ENSP00000493169.filtered.countVal.a3m  717      44                   12\n",
       "ENSP00000493361.filtered.countVal.a3m  717      44                   12\n",
       "ENSP00000493413.filtered.countVal.a3m  717      44                   12\n",
       "dtype: int64"
      ]
     },
     "execution_count": 26,
     "metadata": {},
     "output_type": "execute_result"
    }
   ],
   "source": [
    "df_master[df_master['sequence_lengths'] == 44].value_counts(sort=True)"
   ]
  },
  {
   "cell_type": "code",
   "execution_count": 27,
   "id": "dc5cafc0",
   "metadata": {},
   "outputs": [
    {
     "data": {
      "text/plain": [
       "ESPN                                   MSAsize  sequence_lengths\n",
       "ENSP00000491304.filtered.countVal.a3m  717      40                  559\n",
       "ENSP00000491414.filtered.countVal.a3m  717      40                  559\n",
       "ENSP00000493169.filtered.countVal.a3m  717      40                  559\n",
       "ENSP00000493125.filtered.countVal.a3m  717      40                  559\n",
       "ENSP00000493361.filtered.countVal.a3m  717      40                  559\n",
       "                                                                   ... \n",
       "ENSP00000491414.filtered.countVal.a3m  717      73                    1\n",
       "                                                65                    1\n",
       "ENSP00000493361.filtered.countVal.a3m  717      52                    1\n",
       "ENSP00000493125.filtered.countVal.a3m  717      73                    1\n",
       "ENSP00000493413.filtered.countVal.a3m  717      99                    1\n",
       "Length: 147, dtype: int64"
      ]
     },
     "execution_count": 27,
     "metadata": {},
     "output_type": "execute_result"
    }
   ],
   "source": [
    "df_master[df_master['MSAsize'] == 717].value_counts(sort=True)"
   ]
  },
  {
   "cell_type": "code",
   "execution_count": 28,
   "id": "dee0ef64",
   "metadata": {},
   "outputs": [
    {
     "data": {
      "text/plain": [
       "73      4604\n",
       "40      3913\n",
       "49       960\n",
       "75       881\n",
       "44       703\n",
       "        ... \n",
       "2792       1\n",
       "2600       1\n",
       "2820       1\n",
       "773        1\n",
       "1727       1\n",
       "Name: sequence_lengths, Length: 1874, dtype: int64"
      ]
     },
     "execution_count": 28,
     "metadata": {},
     "output_type": "execute_result"
    }
   ],
   "source": [
    "df_master[\"sequence_lengths\"].value_counts(sort=True)"
   ]
  },
  {
   "cell_type": "code",
   "execution_count": 29,
   "id": "f25429a1",
   "metadata": {},
   "outputs": [
    {
     "data": {
      "text/html": [
       "<div>\n",
       "<style scoped>\n",
       "    .dataframe tbody tr th:only-of-type {\n",
       "        vertical-align: middle;\n",
       "    }\n",
       "\n",
       "    .dataframe tbody tr th {\n",
       "        vertical-align: top;\n",
       "    }\n",
       "\n",
       "    .dataframe thead th {\n",
       "        text-align: right;\n",
       "    }\n",
       "</style>\n",
       "<table border=\"1\" class=\"dataframe\">\n",
       "  <thead>\n",
       "    <tr style=\"text-align: right;\">\n",
       "      <th></th>\n",
       "      <th>MSAsize</th>\n",
       "      <th>sequence_lengths</th>\n",
       "    </tr>\n",
       "    <tr>\n",
       "      <th>ESPN</th>\n",
       "      <th></th>\n",
       "      <th></th>\n",
       "    </tr>\n",
       "  </thead>\n",
       "  <tbody>\n",
       "    <tr>\n",
       "      <th>ENSP00000278618.filtered.countVal.a3m</th>\n",
       "      <td>665.0</td>\n",
       "      <td>333.421053</td>\n",
       "    </tr>\n",
       "    <tr>\n",
       "      <th>ENSP00000281127.filtered.countVal.a3m</th>\n",
       "      <td>294.0</td>\n",
       "      <td>526.693878</td>\n",
       "    </tr>\n",
       "    <tr>\n",
       "      <th>ENSP00000297532.filtered.countVal.a3m</th>\n",
       "      <td>772.0</td>\n",
       "      <td>672.025907</td>\n",
       "    </tr>\n",
       "    <tr>\n",
       "      <th>ENSP00000304592.filtered.countVal.a3m</th>\n",
       "      <td>192.0</td>\n",
       "      <td>2591.744792</td>\n",
       "    </tr>\n",
       "    <tr>\n",
       "      <th>ENSP00000309857.filtered.countVal.a3m</th>\n",
       "      <td>232.0</td>\n",
       "      <td>149.478448</td>\n",
       "    </tr>\n",
       "    <tr>\n",
       "      <th>...</th>\n",
       "      <td>...</td>\n",
       "      <td>...</td>\n",
       "    </tr>\n",
       "    <tr>\n",
       "      <th>ENSP00000493455.filtered.countVal.a3m</th>\n",
       "      <td>264.0</td>\n",
       "      <td>354.166667</td>\n",
       "    </tr>\n",
       "    <tr>\n",
       "      <th>ENSP00000494260.filtered.countVal.a3m</th>\n",
       "      <td>181.0</td>\n",
       "      <td>352.651934</td>\n",
       "    </tr>\n",
       "    <tr>\n",
       "      <th>ENSP00000495091.filtered.countVal.a3m</th>\n",
       "      <td>270.0</td>\n",
       "      <td>324.433333</td>\n",
       "    </tr>\n",
       "    <tr>\n",
       "      <th>ENSP00000497112.filtered.countVal.a3m</th>\n",
       "      <td>104.0</td>\n",
       "      <td>399.875000</td>\n",
       "    </tr>\n",
       "    <tr>\n",
       "      <th>ENSP00000504450.filtered.countVal.a3m</th>\n",
       "      <td>120.0</td>\n",
       "      <td>393.008333</td>\n",
       "    </tr>\n",
       "  </tbody>\n",
       "</table>\n",
       "<p>206 rows × 2 columns</p>\n",
       "</div>"
      ],
      "text/plain": [
       "                                       MSAsize  sequence_lengths\n",
       "ESPN                                                            \n",
       "ENSP00000278618.filtered.countVal.a3m    665.0        333.421053\n",
       "ENSP00000281127.filtered.countVal.a3m    294.0        526.693878\n",
       "ENSP00000297532.filtered.countVal.a3m    772.0        672.025907\n",
       "ENSP00000304592.filtered.countVal.a3m    192.0       2591.744792\n",
       "ENSP00000309857.filtered.countVal.a3m    232.0        149.478448\n",
       "...                                        ...               ...\n",
       "ENSP00000493455.filtered.countVal.a3m    264.0        354.166667\n",
       "ENSP00000494260.filtered.countVal.a3m    181.0        352.651934\n",
       "ENSP00000495091.filtered.countVal.a3m    270.0        324.433333\n",
       "ENSP00000497112.filtered.countVal.a3m    104.0        399.875000\n",
       "ENSP00000504450.filtered.countVal.a3m    120.0        393.008333\n",
       "\n",
       "[206 rows x 2 columns]"
      ]
     },
     "execution_count": 29,
     "metadata": {},
     "output_type": "execute_result"
    }
   ],
   "source": [
    "df_master_seqlenavg = df_master.groupby([\"ESPN\"]).mean()\n",
    "df_master_seqlenavg"
   ]
  },
  {
   "cell_type": "code",
   "execution_count": 30,
   "id": "b0ad0556",
   "metadata": {},
   "outputs": [
    {
     "data": {
      "text/html": [
       "<div>\n",
       "<style scoped>\n",
       "    .dataframe tbody tr th:only-of-type {\n",
       "        vertical-align: middle;\n",
       "    }\n",
       "\n",
       "    .dataframe tbody tr th {\n",
       "        vertical-align: top;\n",
       "    }\n",
       "\n",
       "    .dataframe thead th {\n",
       "        text-align: right;\n",
       "    }\n",
       "</style>\n",
       "<table border=\"1\" class=\"dataframe\">\n",
       "  <thead>\n",
       "    <tr style=\"text-align: right;\">\n",
       "      <th></th>\n",
       "      <th>MSAsize</th>\n",
       "      <th>sequence_lengths</th>\n",
       "    </tr>\n",
       "  </thead>\n",
       "  <tbody>\n",
       "    <tr>\n",
       "      <th>count</th>\n",
       "      <td>206.000000</td>\n",
       "      <td>206.000000</td>\n",
       "    </tr>\n",
       "    <tr>\n",
       "      <th>mean</th>\n",
       "      <td>391.572816</td>\n",
       "      <td>441.916879</td>\n",
       "    </tr>\n",
       "    <tr>\n",
       "      <th>std</th>\n",
       "      <td>304.976548</td>\n",
       "      <td>449.320532</td>\n",
       "    </tr>\n",
       "    <tr>\n",
       "      <th>min</th>\n",
       "      <td>102.000000</td>\n",
       "      <td>41.001395</td>\n",
       "    </tr>\n",
       "    <tr>\n",
       "      <th>25%</th>\n",
       "      <td>179.000000</td>\n",
       "      <td>142.922330</td>\n",
       "    </tr>\n",
       "    <tr>\n",
       "      <th>50%</th>\n",
       "      <td>251.000000</td>\n",
       "      <td>430.222841</td>\n",
       "    </tr>\n",
       "    <tr>\n",
       "      <th>75%</th>\n",
       "      <td>577.250000</td>\n",
       "      <td>494.587251</td>\n",
       "    </tr>\n",
       "    <tr>\n",
       "      <th>max</th>\n",
       "      <td>1469.000000</td>\n",
       "      <td>2869.734513</td>\n",
       "    </tr>\n",
       "  </tbody>\n",
       "</table>\n",
       "</div>"
      ],
      "text/plain": [
       "           MSAsize  sequence_lengths\n",
       "count   206.000000        206.000000\n",
       "mean    391.572816        441.916879\n",
       "std     304.976548        449.320532\n",
       "min     102.000000         41.001395\n",
       "25%     179.000000        142.922330\n",
       "50%     251.000000        430.222841\n",
       "75%     577.250000        494.587251\n",
       "max    1469.000000       2869.734513"
      ]
     },
     "execution_count": 30,
     "metadata": {},
     "output_type": "execute_result"
    }
   ],
   "source": [
    "df_master_seqlenavg.describe()"
   ]
  },
  {
   "cell_type": "code",
   "execution_count": 31,
   "id": "ee7957ea",
   "metadata": {},
   "outputs": [
    {
     "name": "stdout",
     "output_type": "stream",
     "text": [
      "[0, 20, 40, 60, 80, 100, 120, 140, 160, 180, 200, 220, 240, 260, 280, 300, 320, 340, 360, 380, 400, 420, 440, 460, 480, 500, 520, 540, 560, 580, 600, 620, 640, 660, 680, 700, 720, 740, 760, 780, 800, 820, 840, 860, 880, 900, 920, 940, 960, 980, 1000, 1020, 1040, 1060, 1080, 1100, 1120, 1140, 1160, 1180, 1200, 1220, 1240, 1260, 1280, 1300, 1320, 1340, 1360, 1380, 1400, 1420, 1440, 1460, 1480, 1500, 1520, 1540, 1560, 1580, 1600, 1620, 1640, 1660, 1680, 1700, 1720, 1740, 1760, 1780, 1800, 1820, 1840, 1860, 1880, 1900, 1920, 1940, 1960, 1980, 2000, 2020, 2040, 2060, 2080, 2100, 2120, 2140, 2160, 2180, 2200, 2220, 2240, 2260, 2280, 2300, 2320, 2340, 2360, 2380, 2400, 2420, 2440, 2460, 2480, 2500, 2520, 2540, 2560, 2580, 2600, 2620, 2640, 2660, 2680, 2700, 2720, 2740, 2760, 2780, 2800, 2820, 2840, 2860, 2880, 2900, 2920, 2940, 2960, 2980]\n"
     ]
    },
    {
     "data": {
      "text/plain": [
       "Text(0, 0.5, 'Count')"
      ]
     },
     "execution_count": 31,
     "metadata": {},
     "output_type": "execute_result"
    },
    {
     "data": {
      "image/png": "[encoded data removed]",
      "text/plain": [
       "<Figure size 432x288 with 1 Axes>"
      ]
     },
     "metadata": {
      "needs_background": "light"
     },
     "output_type": "display_data"
    }
   ],
   "source": [
    "binsize = 20\n",
    "my_list = [i for i in range (0, 3000, binsize)]\n",
    "print(my_list)\n",
    "plt.hist(df_master_seqlenavg['sequence_lengths'], bins=my_list)\n",
    "plt.suptitle(\"Sequence Lengths Distribution: n = \" + str(df_master_seqlenavg['sequence_lengths'].shape[0]))\n",
    "plt.title(\"bin size: \" + str(binsize))\n",
    "plt.xlabel(\"Sequence Length\")\n",
    "plt.ylabel(\"Count\")"
   ]
  },
  {
   "cell_type": "code",
   "execution_count": 32,
   "id": "3c744514",
   "metadata": {},
   "outputs": [
    {
     "name": "stdout",
     "output_type": "stream",
     "text": [
      "[0, 50, 100, 150, 200, 250, 300, 350, 400, 450, 500, 550, 600, 650, 700, 750, 800, 850, 900, 950, 1000, 1050, 1100, 1150, 1200, 1250, 1300, 1350, 1400, 1450, 1500, 1550, 1600, 1650, 1700, 1750, 1800, 1850, 1900, 1950, 2000, 2050, 2100, 2150, 2200, 2250, 2300, 2350, 2400, 2450, 2500, 2550, 2600, 2650, 2700, 2750, 2800, 2850, 2900, 2950]\n"
     ]
    },
    {
     "data": {
      "text/plain": [
       "Text(0, 0.5, 'Count')"
      ]
     },
     "execution_count": 32,
     "metadata": {},
     "output_type": "execute_result"
    },
    {
     "data": {
      "image/png": "[encoded data removed]",
      "text/plain": [
       "<Figure size 432x288 with 1 Axes>"
      ]
     },
     "metadata": {
      "needs_background": "light"
     },
     "output_type": "display_data"
    }
   ],
   "source": [
    "binsize = 50\n",
    "my_list = [i for i in range (0, 3000, binsize)]\n",
    "print(my_list)\n",
    "plt.hist(df_master_seqlenavg['sequence_lengths'], bins=my_list)\n",
    "plt.suptitle(\"Sequence Lengths Distribution: n = \" + str(df_master_seqlenavg['sequence_lengths'].shape[0]))\n",
    "plt.title(\"bin size: \" + str(binsize))\n",
    "plt.xlabel(\"Sequence Length\")\n",
    "plt.ylabel(\"Count\")"
   ]
  },
  {
   "cell_type": "code",
   "execution_count": 33,
   "id": "5310a5e2",
   "metadata": {},
   "outputs": [
    {
     "name": "stdout",
     "output_type": "stream",
     "text": [
      "[0, 20, 40, 60, 80, 100, 120, 140, 160, 180, 200, 220, 240, 260, 280, 300, 320, 340, 360, 380, 400, 420, 440, 460, 480, 500, 520, 540, 560, 580, 600, 620, 640, 660, 680, 700, 720, 740, 760, 780, 800, 820, 840, 860, 880, 900, 920, 940, 960, 980, 1000, 1020, 1040, 1060, 1080, 1100, 1120, 1140, 1160, 1180, 1200, 1220, 1240, 1260, 1280, 1300, 1320, 1340, 1360, 1380, 1400, 1420, 1440, 1460, 1480, 1500, 1520, 1540, 1560, 1580]\n"
     ]
    },
    {
     "data": {
      "text/plain": [
       "Text(0, 0.5, 'Count')"
      ]
     },
     "execution_count": 33,
     "metadata": {},
     "output_type": "execute_result"
    },
    {
     "data": {
      "image/png": "[encoded data removed]",
      "text/plain": [
       "<Figure size 432x288 with 1 Axes>"
      ]
     },
     "metadata": {
      "needs_background": "light"
     },
     "output_type": "display_data"
    }
   ],
   "source": [
    "binsize = 20\n",
    "my_list = [i for i in range (0, 1600, binsize)]\n",
    "print(my_list)\n",
    "plt.hist(df_master_seqlenavg['sequence_lengths'], bins=my_list)\n",
    "plt.suptitle(\"Sequence Lengths Distribution: n = \" + str(df_master_seqlenavg['sequence_lengths'].shape[0]))\n",
    "plt.title(\"bin size: \" + str(binsize))\n",
    "plt.xlabel(\"Sequence Length\")\n",
    "plt.ylabel(\"Count\")"
   ]
  },
  {
   "cell_type": "code",
   "execution_count": 34,
   "id": "e95b9ac0",
   "metadata": {},
   "outputs": [
    {
     "name": "stdout",
     "output_type": "stream",
     "text": [
      "[0, 50, 100, 150, 200, 250, 300, 350, 400, 450, 500, 550, 600, 650, 700, 750, 800, 850, 900, 950, 1000, 1050, 1100, 1150, 1200, 1250, 1300, 1350, 1400, 1450, 1500, 1550]\n"
     ]
    },
    {
     "data": {
      "text/plain": [
       "Text(0, 0.5, 'Count')"
      ]
     },
     "execution_count": 34,
     "metadata": {},
     "output_type": "execute_result"
    },
    {
     "data": {
      "image/png": "[encoded data removed]",
      "text/plain": [
       "<Figure size 432x288 with 1 Axes>"
      ]
     },
     "metadata": {
      "needs_background": "light"
     },
     "output_type": "display_data"
    }
   ],
   "source": [
    "binsize = 50\n",
    "my_list = [i for i in range (0, 1600, binsize)]\n",
    "print(my_list)\n",
    "plt.hist(df_master_seqlenavg['sequence_lengths'], bins=my_list)\n",
    "plt.suptitle(\"Sequence Lengths Distribution: n = \" + str(df_master_seqlenavg['sequence_lengths'].shape[0]))\n",
    "plt.title(\"bin size: \" + str(binsize))\n",
    "plt.xlabel(\"Sequence Length\")\n",
    "plt.ylabel(\"Count\")"
   ]
  },
  {
   "cell_type": "code",
   "execution_count": null,
   "id": "959bece0",
   "metadata": {},
   "outputs": [],
   "source": []
  },
  {
   "cell_type": "code",
   "execution_count": null,
   "id": "71e233cc",
   "metadata": {},
   "outputs": [],
   "source": []
  }
 ],
 "metadata": {
  "kernelspec": {
   "display_name": "Python 3",
   "language": "python",
   "name": "python3"
  },
  "language_info": {
   "codemirror_mode": {
    "name": "ipython",
    "version": 3
   },
   "file_extension": ".py",
   "mimetype": "text/x-python",
   "name": "python",
   "nbconvert_exporter": "python",
   "pygments_lexer": "ipython3",
   "version": "3.8.8"
  }
 },
 "nbformat": 4,
 "nbformat_minor": 5
}
